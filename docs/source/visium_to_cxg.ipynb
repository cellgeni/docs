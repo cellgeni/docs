{
 "cells": [
  {
   "cell_type": "markdown",
   "id": "faced-childhood",
   "metadata": {},
   "source": [
    "# Processing Visium Data to visualize in cellxgene"
   ]
  },
  {
   "cell_type": "code",
   "execution_count": null,
   "id": "unusual-elimination",
   "metadata": {},
   "outputs": [],
   "source": [
    "import scanpy as sc\n",
    "import pandas as pd"
   ]
  },
  {
   "cell_type": "markdown",
   "id": "japanese-cyprus",
   "metadata": {},
   "source": [
    "### Read the file by `read_visium` function"
   ]
  },
  {
   "cell_type": "markdown",
   "id": "surprised-camel",
   "metadata": {},
   "source": [
    "You need to indicate the **folder path** that includes `spatial` folder and `filtered_feature_bc_matrix.h5` file. This path is usually the output path of running [SpaceRanger](https://support.10xgenomics.com/spatial-gene-expression/software/pipelines/latest/what-is-space-ranger) on your data."
   ]
  },
  {
   "cell_type": "code",
   "execution_count": null,
   "id": "hybrid-depth",
   "metadata": {},
   "outputs": [],
   "source": [
    "adata = sc.read_visium('/path/to/spaceranger/outs')\n"
   ]
  },
  {
   "cell_type": "markdown",
   "id": "outstanding-butler",
   "metadata": {},
   "source": [
    "### Read the cell metadata by `read_csv` function"
   ]
  },
  {
   "cell_type": "markdown",
   "id": "solid-still",
   "metadata": {},
   "source": [
    "Data type needs to be changed with `.astype('category')` if you want them to be shown as a as collapsible items on the left hand side of cellxgene. This should only be applied to metadata that **is not** continuous."
   ]
  },
  {
   "cell_type": "code",
   "execution_count": null,
   "id": "nutritional-chest",
   "metadata": {},
   "outputs": [],
   "source": [
    "adata.obsm['X_umap'] = pd.read_csv('/path/to/analysis/umap/projection.csv', usecols = ['UMAP-1', 'UMAP-2']).to_numpy()\n",
    "adata.obsm['X_tsne'] = pd.read_csv('/path/to/analysis/tsne/projection.csv', usecols = ['TSNE-1', 'TSNE-2']).to_numpy()\n",
    "adata.obs['clustering'] = pd.read_csv('/path/to/clustering/clusters.csv', index_col = 'Barcode')\n",
    "adata.obs['clustering'] = adata.obs['clustering'].astype('category')\n"
   ]
  },
  {
   "cell_type": "markdown",
   "id": "hairy-milwaukee",
   "metadata": {},
   "source": [
    "### Rename `spatial` as `X_spatial`"
   ]
  },
  {
   "cell_type": "code",
   "execution_count": null,
   "id": "capable-yeast",
   "metadata": {},
   "outputs": [],
   "source": [
    "adata.obsm['X_spatial'] = adata.obsm['spatial']\n",
    "del adata.obsm['spatial']"
   ]
  },
  {
   "cell_type": "markdown",
   "id": "sensitive-oliver",
   "metadata": {},
   "source": [
    "cellxgene only reads multi-dimensional annotation of observations (`obsm`) embedeings if they are prefixed with `X_` \n",
    "that's why we need to rename `adata.obsm['spatial']` to `adata.obsm['X_spatial']`.\n",
    "Other embedings that where already prefixed are: `X_umap` and `X_tsne`."
   ]
  },
  {
   "cell_type": "markdown",
   "id": "latin-internet",
   "metadata": {},
   "source": [
    "#### Or transfer spatial features from another h5ad\n",
    "Only do this if your spatial features come from another H5AD object"
   ]
  },
  {
   "cell_type": "code",
   "execution_count": null,
   "id": "diagnostic-bhutan",
   "metadata": {},
   "outputs": [],
   "source": [
    "adata2 = sc.read('/path/to/other/object.h5ad')\n",
    "adata.uns['spatial'] = adata2.uns['spatial']\n",
    "adata.obsm['X_spatial'] = adata2.obsm['X_spatial']\n"
   ]
  },
  {
   "cell_type": "markdown",
   "id": "anonymous-romantic",
   "metadata": {},
   "source": [
    "### Integrate Cell2Location output to your AnnData"
   ]
  },
  {
   "cell_type": "code",
   "execution_count": null,
   "id": "three-quality",
   "metadata": {},
   "outputs": [],
   "source": [
    "# if your cell abundance data are in csv files\n",
    "cell_abundance = pd.read_csv('/your/path/to/cell_abundance.csv')\n",
    "adata.obs = pd.concat([adata.obs, cell_abundance], axis=1)\n",
    "adata.obsm['q05_cell_abundance_w_sf'] = pd.read_csv('/your/path/to/csv')\n",
    "\n",
    "# if your cell abundance data are in obsm slot\n",
    "adata.obs = pd.concat([adata.obs, adata.obsm['q05_cell_abundance_w_sf']], axis=1)"
   ]
  },
  {
   "cell_type": "markdown",
   "id": "plain-device",
   "metadata": {},
   "source": [
    "Cell abundance values are continuous so they won't be shown as categories but rather as histograms on the left side of cellxgene as long as they are part of the one-dimensional annotation of observations (`adata.obs`)."
   ]
  },
  {
   "cell_type": "markdown",
   "id": "successful-engagement",
   "metadata": {},
   "source": [
    "### Save your AnnData"
   ]
  },
  {
   "cell_type": "code",
   "execution_count": null,
   "id": "intensive-virtue",
   "metadata": {},
   "outputs": [],
   "source": [
    "adata.write('/path/for/save/visium.h5ad', compression = 'gzip')"
   ]
  },
  {
   "cell_type": "markdown",
   "id": "synthetic-passage",
   "metadata": {},
   "source": [
    "Compressing the output file will make it use less storage when on disk, but it may make the reading-writing of the file take longer. Use this if you're tight on storage or need to share files over internet and copying/uploading takes too long."
   ]
  },
  {
   "cell_type": "markdown",
   "id": "basic-essence",
   "metadata": {},
   "source": [
    "---"
   ]
  },
  {
   "cell_type": "markdown",
   "id": "several-thumbnail",
   "metadata": {},
   "source": [
    "# Multiple Visium samples for cellxgene (mosaic)"
   ]
  },
  {
   "cell_type": "markdown",
   "id": "tested-cambodia",
   "metadata": {},
   "source": [
    "If you want to add multiple samples into a single Anndata, you need to follow these steps:"
   ]
  },
  {
   "cell_type": "markdown",
   "id": "solar-reynolds",
   "metadata": {},
   "source": [
    "### Read all visium samples using scanpy.read_visium"
   ]
  },
  {
   "cell_type": "code",
   "execution_count": null,
   "id": "signal-scope",
   "metadata": {},
   "outputs": [],
   "source": [
    "samples = [ \"LibID_1\", \"LibID_2\",\"LibID_3\" ]"
   ]
  },
  {
   "cell_type": "markdown",
   "id": "northern-courtesy",
   "metadata": {},
   "source": [
    "This will assume that all your space ranger outputs are inside the folder `samples` and that each one is on it's separate folder matching the sample name (or the name that you've filled the `samples` array with).\n",
    "\n",
    "Each sub-folder must include at least the `filtered_feature_bc_matrix.h5` file and a `spatial` folder with `scalefactors_json.json`, `tissue_hires_image.png` and `tissue_positions_list.csv`."
   ]
  },
  {
   "cell_type": "code",
   "execution_count": null,
   "id": "eligible-referral",
   "metadata": {},
   "outputs": [],
   "source": [
    "adatas = []\n",
    "spatial_uns = {} # use this to keep the unstructured observations when concatenating\n",
    "for sample in samples:\n",
    "    print(f\"- Reading {sample}\")\n",
    "    adata = sc.read_visium(f\"samples/{sample}\")\n",
    "    adata.var_names_make_unique()\n",
    "    # create a new observation to identify each library id\n",
    "    adata.obs['library_id'] = sample\n",
    "    # also prepend library id to barcodes (libID@Barcode) to prevent observation names not being unique\n",
    "    adata.obs.set_index(sample + \"@\" + adata.obs.index.astype(str), inplace=True)\n",
    "    spatial_uns[sample] = adata.uns[\"spatial\"][sample]\n",
    "    adata.obs['library_id'].astype(\"category\")\n",
    "    adatas.append(adata)"
   ]
  },
  {
   "cell_type": "markdown",
   "id": "biblical-pennsylvania",
   "metadata": {},
   "source": [
    "### Merge objects into a single Anndata (h5ad)"
   ]
  },
  {
   "cell_type": "code",
   "execution_count": null,
   "id": "federal-algorithm",
   "metadata": {},
   "outputs": [],
   "source": [
    "adata = sc.concat(adatas)\n",
    "adata.uns['spatial'] = spatial_uns"
   ]
  },
  {
   "cell_type": "markdown",
   "id": "lonely-botswana",
   "metadata": {},
   "source": [
    "### Create a single image with all Visium slides from spaceranger outs"
   ]
  },
  {
   "cell_type": "code",
   "execution_count": null,
   "id": "foreign-connection",
   "metadata": {},
   "outputs": [],
   "source": [
    "import math\n",
    "import numpy as np\n",
    "from PIL import Image\n",
    "import matplotlib.pyplot as plt\n",
    "\n",
    "sample_count = len(samples)\n",
    "\n",
    "# set the max item count for each dimensions (row/count)\n",
    "N = math.ceil(math.sqrt(sample_count))\n",
    "print(f\"max {N} images per row/column\")\n",
    "\n",
    "# because the max dimension of a hires image is 2000px\n",
    "max_width = 2000\n",
    "max_height = 2000\n",
    "\n",
    "# estimate final canvas size based on 2000x2000 max image size\n",
    "canvas = Image.new('RGBA', (max_width*N, max_height*N))\n",
    "\n",
    "# paste all images in the canvas\n",
    "# fill row by row taking N samples at the time\n",
    "y = 0\n",
    "for i in range(0, sample_count, N):\n",
    "    x = 0\n",
    "    for sample in samples[i:i+N]:\n",
    "        # add this sample's image to canvas\n",
    "        image = Image.open(f\"samples/{sample}/spatial/tissue_hires_image.png\")\n",
    "        canvas.paste(image, (x*max_width, y*max_height))\n",
    "\n",
    "        # keep the original spatial embedings in case you need them for latter\n",
    "        # otherwise you can comment the next line, some image people may want\n",
    "        # this information to go back to the \"oroginal\" (ndpi or tiff files)\n",
    "        # histology images used as input for spaceranger\n",
    "        adata.obsm['spatial_original'] = adata.obsm['spatial']\n",
    "\n",
    "        # scale the embedings to match the tissue_hires_image\n",
    "        scale_factor = adata.uns[\"spatial\"][sample]['scalefactors']['tissue_hires_scalef']\n",
    "        lib_mask = adata.obs['library_id']==sample\n",
    "        adata.obsm['spatial'][lib_mask] = (adata.obsm['spatial'][lib_mask] * scale_factor).astype(np.float32)\n",
    "\n",
    "        # offest embedings for this sample\n",
    "        adata.obsm['spatial'][lib_mask,0] += x*max_width\n",
    "        adata.obsm['spatial'][lib_mask,1] += y*max_height\n",
    "        \n",
    "        # show what's happening\n",
    "        print(f\"{sample} [{y}][{x}]; offset {sample} coords x+={x*max_height},y+={y*max_width}\")\n",
    "        x = x + 1\n",
    "    y = y + 1\n",
    "\n",
    "# save an image with all the merged libraries\n",
    "canvas.save(\"visium_merged.png\")\n"
   ]
  },
  {
   "cell_type": "markdown",
   "id": "injured-miracle",
   "metadata": {},
   "source": [
    "#### Sanity check: scatterplot for the spatial embedings\n",
    "\n",
    "The plot will be upside down because we used top left for origin of coordinates instead of bottom left like the scatter."
   ]
  },
  {
   "cell_type": "code",
   "execution_count": null,
   "id": "wrong-franchise",
   "metadata": {},
   "outputs": [],
   "source": [
    "plt.scatter(adata.obsm[\"spatial\"][:,0],adata.obsm[\"spatial\"][:,1])\n"
   ]
  },
  {
   "cell_type": "markdown",
   "id": "balanced-float",
   "metadata": {},
   "source": [
    "#### Save original metadata"
   ]
  },
  {
   "cell_type": "code",
   "execution_count": null,
   "id": "desperate-ensemble",
   "metadata": {},
   "outputs": [],
   "source": [
    "adata.uns['spatial_original_medatada'] = adata.uns['spatial']"
   ]
  },
  {
   "cell_type": "markdown",
   "id": "intimate-carpet",
   "metadata": {},
   "source": [
    "### Craft dummy metadata for the merged image"
   ]
  },
  {
   "cell_type": "code",
   "execution_count": null,
   "id": "olympic-blanket",
   "metadata": {
    "tags": []
   },
   "outputs": [],
   "source": [
    "from matplotlib.pyplot import imread\n",
    "\n",
    "# generate fake spatial annotation for cellxgene to use\n",
    "spot_diameter = [adata.uns[\"spatial\"][library_id]['scalefactors']['spot_diameter_fullres'] for library_id in adata.uns[\"spatial\"].keys()]\n",
    "fiducial_diameter = [adata.uns[\"spatial\"][library_id]['scalefactors']['fiducial_diameter_fullres'] for library_id in adata.uns[\"spatial\"].keys()]\n",
    "\n",
    "uns_spatial = {\n",
    "    'merged':{\n",
    "        \"images\":{\n",
    "            \"hires\": imread(\"visium_merged.png\")\n",
    "        },\n",
    "        \"scalefactors\": {\n",
    "            # scaleref is 1.0 because all coords have already been scaled\n",
    "            'tissue_hires_scalef': 1.0,\n",
    "            # average spot diamenters\n",
    "            'spot_diameter_fullres': sum(spot_diameter)/len(spot_diameter),\n",
    "            'fiducial_diameter_fullres': sum(fiducial_diameter)/len(fiducial_diameter)\n",
    "        }\n",
    "    }\n",
    "}"
   ]
  },
  {
   "cell_type": "code",
   "execution_count": null,
   "id": "standing-demographic",
   "metadata": {},
   "outputs": [],
   "source": [
    "adata.uns['spatial'] = uns_spatial\n",
    "# cellxgene needs `X_` prefixed obsm for plotting\n",
    "adata.obsm['X_spatial'] = adata.obsm['spatial']"
   ]
  },
  {
   "cell_type": "markdown",
   "id": "aboriginal-stake",
   "metadata": {},
   "source": [
    "### Verify results with scanpy.pl.spatial"
   ]
  },
  {
   "cell_type": "code",
   "execution_count": null,
   "id": "instructional-kruger",
   "metadata": {},
   "outputs": [],
   "source": [
    "sc.pl.spatial(adata, color='library_id', img_key='hires')"
   ]
  },
  {
   "cell_type": "code",
   "execution_count": null,
   "id": "mighty-occurrence",
   "metadata": {},
   "outputs": [],
   "source": [
    "adata.write('/path/for/save/visium_merged.h5ad', compression = 'gzip')"
   ]
  }
 ],
 "metadata": {
  "kernelspec": {
   "display_name": "Python 3",
   "language": "python",
   "name": "python3"
  },
  "language_info": {
   "codemirror_mode": {
    "name": "ipython",
    "version": 3
   },
   "file_extension": ".py",
   "mimetype": "text/x-python",
   "name": "python",
   "nbconvert_exporter": "python",
   "pygments_lexer": "ipython3",
   "version": "3.8.8"
  }
 },
 "nbformat": 4,
 "nbformat_minor": 5
}
